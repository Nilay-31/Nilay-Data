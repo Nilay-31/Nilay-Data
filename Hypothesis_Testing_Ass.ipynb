{
  "nbformat": 4,
  "nbformat_minor": 0,
  "metadata": {
    "colab": {
      "provenance": []
    },
    "kernelspec": {
      "name": "python3",
      "display_name": "Python 3"
    },
    "language_info": {
      "name": "python"
    }
  },
  "cells": [
    {
      "cell_type": "code",
      "execution_count": 8,
      "metadata": {
        "id": "eOxF2DKy5BSt"
      },
      "outputs": [],
      "source": [
        "import scipy.stats as stats"
      ]
    },
    {
      "cell_type": "markdown",
      "source": [
        "### Hypotheses statement"
      ],
      "metadata": {
        "id": "JNdSC3u76_9P"
      }
    },
    {
      "cell_type": "code",
      "source": [
        "# Hypotheses statement\n",
        "H0 = \"The theoretical weekly operating cost model is accurate.\"\n",
        "H1 = \"The theoretical weekly operating cost model is not accurate, and the true weekly operating costs are higher.\"\n"
      ],
      "metadata": {
        "id": "EjMQl1P55SPi"
      },
      "execution_count": 3,
      "outputs": []
    },
    {
      "cell_type": "code",
      "source": [
        "# Given data\n",
        "sample_mean = 3050\n",
        "theoretical_mean = 1000 + 5 * 600  # W = $1,000 + $5X, where X = 600 units\n",
        "std_dev = 5 * 25  # σ = 5 * 25 units\n",
        "sample_size = 25"
      ],
      "metadata": {
        "id": "8nMlgxhc5SMC"
      },
      "execution_count": 4,
      "outputs": []
    },
    {
      "cell_type": "markdown",
      "source": [
        "## Calculate the test **statistic**"
      ],
      "metadata": {
        "id": "naOMkKAV7HiW"
      }
    },
    {
      "cell_type": "code",
      "source": [
        "# Calculate the test statistic\n",
        "test_statistic = (sample_mean - theoretical_mean) / (std_dev / (sample_size ** 0.5))\n",
        "print(f\"Test statistic: {test_statistic:.2f}\")"
      ],
      "metadata": {
        "colab": {
          "base_uri": "https://localhost:8080/"
        },
        "id": "dDlED_Yz5SJ1",
        "outputId": "f2858b25-e0c3-41b4-b59e-02720cb69640"
      },
      "execution_count": 5,
      "outputs": [
        {
          "output_type": "stream",
          "name": "stdout",
          "text": [
            "Test statistic: -38.00\n"
          ]
        }
      ]
    },
    {
      "cell_type": "markdown",
      "source": [
        "### Determine the critical value"
      ],
      "metadata": {
        "id": "fo029Sef7S5L"
      }
    },
    {
      "cell_type": "code",
      "source": [
        "# Determine the critical value\n",
        "alpha = 0.05\n",
        "critical_value = -stats.norm.ppf(alpha)\n",
        "print(f\"Critical value: {critical_value:.2f}\")"
      ],
      "metadata": {
        "colab": {
          "base_uri": "https://localhost:8080/"
        },
        "id": "kS0gU_Zr5SHh",
        "outputId": "bf56db92-156c-498c-ef16-a319ca0d859c"
      },
      "execution_count": 6,
      "outputs": [
        {
          "output_type": "stream",
          "name": "stdout",
          "text": [
            "Critical value: 1.64\n"
          ]
        }
      ]
    },
    {
      "cell_type": "markdown",
      "source": [
        "### Make a decision"
      ],
      "metadata": {
        "id": "QSj6QEuA7bcd"
      }
    },
    {
      "cell_type": "code",
      "source": [
        "# Make a decision\n",
        "if test_statistic < critical_value:\n",
        "    print(\"Reject the null hypothesis.\")\n",
        "    print(\"There is strong evidence to support the restaurant owners' claim that the weekly operating costs are higher than the model suggests.\")\n",
        "else:\n",
        "    print(\"Fail to reject the null hypothesis.\")\n",
        "    print(\"There is no strong evidence to support the restaurant owners' claim.\")"
      ],
      "metadata": {
        "colab": {
          "base_uri": "https://localhost:8080/"
        },
        "id": "4EEjhFCZ5SFP",
        "outputId": "3e7e6ded-ba24-4380-d19b-4e497b6ab5d1"
      },
      "execution_count": 7,
      "outputs": [
        {
          "output_type": "stream",
          "name": "stdout",
          "text": [
            "Reject the null hypothesis.\n",
            "There is strong evidence to support the restaurant owners' claim that the weekly operating costs are higher than the model suggests.\n"
          ]
        }
      ]
    },
    {
      "cell_type": "code",
      "source": [],
      "metadata": {
        "id": "mc9LfUJJ5SAP"
      },
      "execution_count": null,
      "outputs": []
    },
    {
      "cell_type": "code",
      "source": [],
      "metadata": {
        "id": "4WHkIVUe5R8C"
      },
      "execution_count": null,
      "outputs": []
    },
    {
      "cell_type": "code",
      "source": [],
      "metadata": {
        "id": "w3K2vTxv5R5e"
      },
      "execution_count": null,
      "outputs": []
    }
  ]
}