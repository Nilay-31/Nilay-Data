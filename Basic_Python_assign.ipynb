{
  "nbformat": 4,
  "nbformat_minor": 0,
  "metadata": {
    "colab": {
      "provenance": []
    },
    "kernelspec": {
      "name": "python3",
      "display_name": "Python 3"
    },
    "language_info": {
      "name": "python"
    }
  },
  "cells": [
    {
      "cell_type": "code",
      "source": [
        "#Exercise:1 Prime Number\n",
        "\n",
        "def is_prime(number):\n",
        "    if number <= 1:\n",
        "        return False\n",
        "    elif number == 2:\n",
        "        return True  # 2 is the only even prime number\n",
        "    elif number % 2 == 0:\n",
        "        return False  # All other even numbers are not prime number\n",
        "    else:\n",
        "        for i in range(3, int(number ** 0.5) + 1, 2):\n",
        "            if number % i == 0:\n",
        "                return False\n",
        "        return True\n",
        "\n",
        "# Input enter by user\n",
        "num = int(input(\"Enter a number: \"))\n",
        "\n",
        "# Check if the number is prime number or not\n",
        "if is_prime(num):\n",
        "    print(f\"{num} is a prime number.\")\n",
        "else:\n",
        "    print(f\"{num} is not a prime number.\")\n"
      ],
      "metadata": {
        "colab": {
          "base_uri": "https://localhost:8080/"
        },
        "id": "2dBAfswQkhu-",
        "outputId": "05f167eb-5c35-4e44-fa5e-989db2f3dbca"
      },
      "execution_count": 46,
      "outputs": [
        {
          "output_type": "stream",
          "name": "stdout",
          "text": [
            "Enter a number: 10\n",
            "10 is not a prime number.\n"
          ]
        }
      ]
    },
    {
      "cell_type": "code",
      "source": [
        "#Exercise: 2 Product of Random Numbers Exercise 2\n",
        "import random\n",
        "\n",
        "# Considering two random numbers between 1 and 10\n",
        "num1 = random.randint(1, 10)\n",
        "num2 = random.randint(1, 10)\n",
        "\n",
        "# Calculate the correct product of random numbers\n",
        "correct_answer = num1 * num2\n",
        "\n",
        "# Ask the user to input the product of the two numbers\n",
        "user_answer = int(input(f\"What is the product of {num1} and {num2}? \"))\n",
        "\n",
        "# Check if the user's answer is correct and display an message\n",
        "if user_answer == correct_answer:\n",
        "    print(\"Correct! Well done.\")\n",
        "else:\n",
        "    print(f\"Incorrect. The correct answer is {correct_answer}.\")\n"
      ],
      "metadata": {
        "colab": {
          "base_uri": "https://localhost:8080/"
        },
        "id": "FptGb8Ghnf9G",
        "outputId": "c02091e8-8e22-4cb8-94da-bf4285ac0825"
      },
      "execution_count": 44,
      "outputs": [
        {
          "output_type": "stream",
          "name": "stdout",
          "text": [
            "What is the product of 10 and 7? 70\n",
            "Correct! Well done.\n"
          ]
        }
      ]
    },
    {
      "cell_type": "code",
      "source": [
        "# Exercise:3 Square of Even/Odd Numbers\n",
        "\n",
        "#Even number Square Program\n",
        "# Loop through the range 100 to 200 (inclusive)\n",
        "print(\"Square of Even Numbers:\")\n",
        "for num in range(100, 201):\n",
        "    # Check if the number is even\n",
        "    if num % 2 ==0:\n",
        "      print(f\"{num} Squared is {num ** 2}\")"
      ],
      "metadata": {
        "colab": {
          "base_uri": "https://localhost:8080/"
        },
        "collapsed": true,
        "id": "dVoeBLSOqz-H",
        "outputId": "1bdeb9ce-681f-4a99-ef41-e1422f3e8f06"
      },
      "execution_count": 42,
      "outputs": [
        {
          "output_type": "stream",
          "name": "stdout",
          "text": [
            "Square of Even Numbers:\n",
            "100 Squared is 10000\n",
            "102 Squared is 10404\n",
            "104 Squared is 10816\n",
            "106 Squared is 11236\n",
            "108 Squared is 11664\n",
            "110 Squared is 12100\n",
            "112 Squared is 12544\n",
            "114 Squared is 12996\n",
            "116 Squared is 13456\n",
            "118 Squared is 13924\n",
            "120 Squared is 14400\n",
            "122 Squared is 14884\n",
            "124 Squared is 15376\n",
            "126 Squared is 15876\n",
            "128 Squared is 16384\n",
            "130 Squared is 16900\n",
            "132 Squared is 17424\n",
            "134 Squared is 17956\n",
            "136 Squared is 18496\n",
            "138 Squared is 19044\n",
            "140 Squared is 19600\n",
            "142 Squared is 20164\n",
            "144 Squared is 20736\n",
            "146 Squared is 21316\n",
            "148 Squared is 21904\n",
            "150 Squared is 22500\n",
            "152 Squared is 23104\n",
            "154 Squared is 23716\n",
            "156 Squared is 24336\n",
            "158 Squared is 24964\n",
            "160 Squared is 25600\n",
            "162 Squared is 26244\n",
            "164 Squared is 26896\n",
            "166 Squared is 27556\n",
            "168 Squared is 28224\n",
            "170 Squared is 28900\n",
            "172 Squared is 29584\n",
            "174 Squared is 30276\n",
            "176 Squared is 30976\n",
            "178 Squared is 31684\n",
            "180 Squared is 32400\n",
            "182 Squared is 33124\n",
            "184 Squared is 33856\n",
            "186 Squared is 34596\n",
            "188 Squared is 35344\n",
            "190 Squared is 36100\n",
            "192 Squared is 36864\n",
            "194 Squared is 37636\n",
            "196 Squared is 38416\n",
            "198 Squared is 39204\n",
            "200 Squared is 40000\n"
          ]
        }
      ]
    },
    {
      "cell_type": "code",
      "source": [
        "# Exercise:3 Square of Even/Odd Numbers\n",
        "\n",
        "#Odd number Square Program\n",
        "# Loop through the range 100 to 200 (inclusive)\n",
        "print(\"Square of Odd Numbers:\")\n",
        "for num in range(100, 201):\n",
        "    # Check if the number is even\n",
        "    if num % 2 !=0:\n",
        "      print(f\"{num} Squared is {num ** 2}\")"
      ],
      "metadata": {
        "colab": {
          "base_uri": "https://localhost:8080/"
        },
        "id": "DXWHy9cqxXNt",
        "outputId": "cfa9a463-045d-4dda-db0a-2f6c37155bd3"
      },
      "execution_count": 41,
      "outputs": [
        {
          "output_type": "stream",
          "name": "stdout",
          "text": [
            "Square of Odd Numbers:\n",
            "101 Squared is 10201\n",
            "103 Squared is 10609\n",
            "105 Squared is 11025\n",
            "107 Squared is 11449\n",
            "109 Squared is 11881\n",
            "111 Squared is 12321\n",
            "113 Squared is 12769\n",
            "115 Squared is 13225\n",
            "117 Squared is 13689\n",
            "119 Squared is 14161\n",
            "121 Squared is 14641\n",
            "123 Squared is 15129\n",
            "125 Squared is 15625\n",
            "127 Squared is 16129\n",
            "129 Squared is 16641\n",
            "131 Squared is 17161\n",
            "133 Squared is 17689\n",
            "135 Squared is 18225\n",
            "137 Squared is 18769\n",
            "139 Squared is 19321\n",
            "141 Squared is 19881\n",
            "143 Squared is 20449\n",
            "145 Squared is 21025\n",
            "147 Squared is 21609\n",
            "149 Squared is 22201\n",
            "151 Squared is 22801\n",
            "153 Squared is 23409\n",
            "155 Squared is 24025\n",
            "157 Squared is 24649\n",
            "159 Squared is 25281\n",
            "161 Squared is 25921\n",
            "163 Squared is 26569\n",
            "165 Squared is 27225\n",
            "167 Squared is 27889\n",
            "169 Squared is 28561\n",
            "171 Squared is 29241\n",
            "173 Squared is 29929\n",
            "175 Squared is 30625\n",
            "177 Squared is 31329\n",
            "179 Squared is 32041\n",
            "181 Squared is 32761\n",
            "183 Squared is 33489\n",
            "185 Squared is 34225\n",
            "187 Squared is 34969\n",
            "189 Squared is 35721\n",
            "191 Squared is 36481\n",
            "193 Squared is 37249\n",
            "195 Squared is 38025\n",
            "197 Squared is 38809\n",
            "199 Squared is 39601\n"
          ]
        }
      ]
    },
    {
      "cell_type": "code",
      "source": [
        "#Exercise 4: Word counter\n",
        "\n",
        "from collections import Counter\n",
        "\n",
        "# Sample input text\n",
        "input_text = \"This is a sample text. This text will be used to demonstrate the word counter.\"\n",
        "\n",
        "# Split the text into words\n",
        "words = input_text.split()\n",
        "\n",
        "# Count the frequency of each word\n",
        "word_count = Counter(words)\n",
        "\n",
        "# Print the word count\n",
        "for word, count in word_count.items():\n",
        "    print(f\"'{word}': {count}\")\n"
      ],
      "metadata": {
        "colab": {
          "base_uri": "https://localhost:8080/"
        },
        "id": "ejtAGxEqy47R",
        "outputId": "693639fc-2559-41ee-c195-9badb83f4039"
      },
      "execution_count": 40,
      "outputs": [
        {
          "output_type": "stream",
          "name": "stdout",
          "text": [
            "'This': 2\n",
            "'is': 1\n",
            "'a': 1\n",
            "'sample': 1\n",
            "'text.': 1\n",
            "'text': 1\n",
            "'will': 1\n",
            "'be': 1\n",
            "'used': 1\n",
            "'to': 1\n",
            "'demonstrate': 1\n",
            "'the': 1\n",
            "'word': 1\n",
            "'counter.': 1\n"
          ]
        }
      ]
    },
    {
      "cell_type": "code",
      "source": [
        "#Exercise 5: Check for Palindrome\n",
        "\n",
        "import string\n",
        "\n",
        "def is_palindrome(s):\n",
        "    # Remove punctuation and spaces, and convert to lowercase\n",
        "    cleaned = ''.join(char.lower() for char in s if char.isalnum())\n",
        "\n",
        "    # Check if the cleaned string is the same forwards and backwards\n",
        "    return cleaned == cleaned[::-1]\n",
        "\n",
        "# Test cases\n",
        "print(is_palindrome(\"racecar\"))  # Expected Output: True\n",
        "print(is_palindrome(\"A man, a plan, a canal, Panama\"))  # Expected Output: True\n",
        "print(is_palindrome(\"hello\"))  # Expected Output: False\n"
      ],
      "metadata": {
        "colab": {
          "base_uri": "https://localhost:8080/"
        },
        "id": "HYQGgPDf0SMb",
        "outputId": "be514437-ee5f-4040-a149-8bfbc5ff3e16"
      },
      "execution_count": 45,
      "outputs": [
        {
          "output_type": "stream",
          "name": "stdout",
          "text": [
            "True\n",
            "True\n",
            "False\n"
          ]
        }
      ]
    }
  ]
}