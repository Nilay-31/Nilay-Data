{
  "nbformat": 4,
  "nbformat_minor": 0,
  "metadata": {
    "colab": {
      "provenance": []
    },
    "kernelspec": {
      "name": "python3",
      "display_name": "Python 3"
    },
    "language_info": {
      "name": "python"
    }
  },
  "cells": [
    {
      "cell_type": "code",
      "source": [
        "import numpy as np\n",
        "import scipy.stats as stats\n",
        "\n",
        "# Data: Durability of print-heads (in millions of characters)\n",
        "data = np.array([1.13, 1.55, 1.43, 0.92, 1.25, 1.36, 1.32, 0.85, 1.07, 1.48, 1.20, 1.33, 1.18, 1.22, 1.29])\n",
        "\n",
        "# Number of samples\n",
        "n = len(data)\n",
        "\n",
        "# Sample mean\n",
        "mean = np.mean(data)\n",
        "\n",
        "# Sample standard deviation\n",
        "sample_std = np.std(data, ddof=1)\n",
        "\n",
        "# Known population standard deviation\n",
        "population_std = 0.2\n",
        "\n",
        "# a) 99% Confidence Interval using Sample Standard Deviation\n",
        "confidence_level = 0.99\n",
        "alpha = 1 - confidence_level\n",
        "\n",
        "# t-distribution critical value\n",
        "t_critical = stats.t.ppf(1 - alpha/2, df=n-1)\n",
        "\n",
        "# Margin of error using sample standard deviation\n",
        "margin_of_error_sample = t_critical * (sample_std / np.sqrt(n))\n",
        "\n",
        "# Confidence interval using sample standard deviation\n",
        "ci_lower_sample = mean - margin_of_error_sample\n",
        "ci_upper_sample = mean + margin_of_error_sample\n",
        "\n",
        "print(f\"99% Confidence Interval using sample standard deviation: ({ci_lower_sample:.4f}, {ci_upper_sample:.4f})\")\n",
        "\n",
        "# b) 99% Confidence Interval using Known Population Standard Deviation\n",
        "# z-distribution critical value\n",
        "z_critical = stats.norm.ppf(1 - alpha/2)\n",
        "\n",
        "# Margin of error using population standard deviation\n",
        "margin_of_error_population = z_critical * (population_std / np.sqrt(n))\n",
        "\n",
        "# Confidence interval using population standard deviation\n",
        "ci_lower_population = mean - margin_of_error_population\n",
        "ci_upper_population = mean + margin_of_error_population\n",
        "\n",
        "print(f\"99% Confidence Interval using known population standard deviation: ({ci_lower_population:.4f}, {ci_upper_population:.4f})\")\n"
      ],
      "metadata": {
        "colab": {
          "base_uri": "https://localhost:8080/"
        },
        "id": "S1W7w0MBtsUb",
        "outputId": "be8e1e36-0ed5-482d-b8f0-2b1526077868"
      },
      "execution_count": 3,
      "outputs": [
        {
          "output_type": "stream",
          "name": "stdout",
          "text": [
            "99% Confidence Interval using sample standard deviation: (1.0902, 1.3871)\n",
            "99% Confidence Interval using known population standard deviation: (1.1057, 1.3717)\n"
          ]
        }
      ]
    }
  ]
}